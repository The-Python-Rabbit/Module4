{
 "cells": [
  {
   "cell_type": "markdown",
   "metadata": {},
   "source": [
    "Exercise 1: Make an empty list and call it names"
   ]
  },
  {
   "cell_type": "code",
   "execution_count": 1,
   "metadata": {},
   "outputs": [
    {
     "data": {
      "text/plain": [
       "list"
      ]
     },
     "execution_count": 1,
     "metadata": {},
     "output_type": "execute_result"
    }
   ],
   "source": [
    "names=[]\n",
    "type (names)"
   ]
  },
  {
   "cell_type": "markdown",
   "metadata": {},
   "source": [
    "Exercise 2: Make names filled with names of 5 people: Hannah, Victor, Sam, James, Sarah"
   ]
  },
  {
   "cell_type": "code",
   "execution_count": 1,
   "metadata": {},
   "outputs": [
    {
     "name": "stdout",
     "output_type": "stream",
     "text": [
      "['Hannah', 'Victor', 'Sam', 'James', 'Sarah']\n"
     ]
    }
   ],
   "source": [
    "names=[\"Hannah\",\"Victor\",\"Sam\",\"James\",\"Sarah\"]\n",
    "# print (type (names))\n",
    "print (names)"
   ]
  },
  {
   "cell_type": "code",
   "execution_count": null,
   "metadata": {},
   "outputs": [],
   "source": []
  },
  {
   "cell_type": "markdown",
   "metadata": {},
   "source": [
    "Exercise 3: Make names sort in reverse. Print out the list using a for-loop"
   ]
  },
  {
   "cell_type": "code",
   "execution_count": 3,
   "metadata": {},
   "outputs": [
    {
     "name": "stdout",
     "output_type": "stream",
     "text": [
      "Victor\n",
      "Sarah\n",
      "Sam\n",
      "James\n",
      "Hannah\n"
     ]
    }
   ],
   "source": [
    "names.sort(reverse=True)\n",
    "counter=0\n",
    "for name in names:\n",
    "    print (name)\n",
    "    counter+=1"
   ]
  },
  {
   "cell_type": "markdown",
   "metadata": {},
   "source": [
    "Exercise 4: Make names sorted alphabetically. Print out the list using while loop"
   ]
  },
  {
   "cell_type": "code",
   "execution_count": 6,
   "metadata": {},
   "outputs": [
    {
     "name": "stdout",
     "output_type": "stream",
     "text": [
      "Hannah\n",
      "James\n",
      "Sam\n",
      "Sarah\n",
      "Victor\n"
     ]
    }
   ],
   "source": [
    "names.sort()\n",
    "i1=0\n",
    "while (i1<=len(names)-1):\n",
    "    print (names[i1])\n",
    "    i1+=1\n"
   ]
  },
  {
   "cell_type": "markdown",
   "metadata": {},
   "source": [
    "Exercise 5: Pull out the fourth item from names and print it out"
   ]
  },
  {
   "cell_type": "code",
   "execution_count": 7,
   "metadata": {},
   "outputs": [
    {
     "name": "stdout",
     "output_type": "stream",
     "text": [
      "Sarah\n"
     ]
    }
   ],
   "source": [
    "fourth=names[3]\n",
    "print (fourth)"
   ]
  },
  {
   "cell_type": "markdown",
   "metadata": {},
   "source": [
    "Exercise 6: Pull out the first item from names and print it out"
   ]
  },
  {
   "cell_type": "code",
   "execution_count": 8,
   "metadata": {},
   "outputs": [
    {
     "name": "stdout",
     "output_type": "stream",
     "text": [
      "Hannah\n"
     ]
    }
   ],
   "source": [
    "first=names[0]\n",
    "print (first)"
   ]
  },
  {
   "cell_type": "markdown",
   "metadata": {},
   "source": [
    "Exercise 7: Make a variable named fruits that contains a string \"Apples, Oranges, Bananas, Pineapples, Persimmons, Dragonfruit\" and make it into a list splitting it by the commas."
   ]
  },
  {
   "cell_type": "code",
   "execution_count": 9,
   "metadata": {},
   "outputs": [
    {
     "name": "stdout",
     "output_type": "stream",
     "text": [
      "Apples,Oranges,Bananas,Pineapples,Persimmons,Dragonfruit\n",
      "['Apples', 'Oranges', 'Bananas', 'Pineapples', 'Persimmons', 'Dragonfruit']\n"
     ]
    }
   ],
   "source": [
    "fruits = \"Apples,Oranges,Bananas,Pineapples,Persimmons,Dragonfruit\"\n",
    "print (fruits)\n",
    "fruits_list = fruits.split(',')\n",
    "print (fruits_list)"
   ]
  },
  {
   "cell_type": "markdown",
   "metadata": {},
   "source": [
    "Exercise 8: Create a list of the first 10 square numbers. i.e. the square of each integer from 1 to 10. "
   ]
  },
  {
   "cell_type": "code",
   "execution_count": 11,
   "metadata": {},
   "outputs": [
    {
     "name": "stdout",
     "output_type": "stream",
     "text": [
      "[1, 4, 9, 16, 25, 36, 49, 64, 81, 100]\n"
     ]
    }
   ],
   "source": [
    "square_numbers=[]\n",
    "for i1 in range(1,11):\n",
    "    square_numbers.append(i1**2)\n",
    "print (square_numbers)"
   ]
  },
  {
   "cell_type": "markdown",
   "metadata": {},
   "source": [
    "Exercise 9: Create a multiplication table from 1 to 10"
   ]
  },
  {
   "cell_type": "code",
   "execution_count": 16,
   "metadata": {},
   "outputs": [
    {
     "name": "stdout",
     "output_type": "stream",
     "text": [
      "\n",
      "\n",
      "1\t2\t3\t4\t5\t6\t7\t8\t9\t10\t\n",
      "\n",
      "2\t4\t6\t8\t10\t12\t14\t16\t18\t20\t\n",
      "\n",
      "3\t6\t9\t12\t15\t18\t21\t24\t27\t30\t\n",
      "\n",
      "4\t8\t12\t16\t20\t24\t28\t32\t36\t40\t\n",
      "\n",
      "5\t10\t15\t20\t25\t30\t35\t40\t45\t50\t\n",
      "\n",
      "6\t12\t18\t24\t30\t36\t42\t48\t54\t60\t\n",
      "\n",
      "7\t14\t21\t28\t35\t42\t49\t56\t63\t70\t\n",
      "\n",
      "8\t16\t24\t32\t40\t48\t56\t64\t72\t80\t\n",
      "\n",
      "9\t18\t27\t36\t45\t54\t63\t72\t81\t90\t\n",
      "\n",
      "10\t20\t30\t40\t50\t60\t70\t80\t90\t100\t"
     ]
    }
   ],
   "source": [
    "\n",
    "# Original version\n",
    "# factor = int(input(\"Enter number to multiply: \"))\n",
    "# for i1 in range (1,11):\n",
    "#    multi_table.append(factor*i1)\n",
    "#print (multi_table)\n",
    "\n",
    "# This is the corrected version\n",
    "\n",
    "for i1 in range (1,11):\n",
    "    print (\"\\n\")\n",
    "    for i2 in range (1,11):\n",
    "        print(i1*i2,end=\"\\t\")"
   ]
  },
  {
   "cell_type": "markdown",
   "metadata": {},
   "source": [
    "Exercise 10: Write a program that gets test scores from a user and then calculates and displays the average of the scores that have been enter. The output of the program should show the original scores and the average. "
   ]
  },
  {
   "cell_type": "code",
   "execution_count": 13,
   "metadata": {},
   "outputs": [
    {
     "name": "stdout",
     "output_type": "stream",
     "text": [
      "Enter test score: 10\n",
      "The average of the scores is: 10.0\n",
      "Do you want to continue (y/n): y\n",
      "Enter test score: 10\n",
      "The average of the scores is: 10.0\n",
      "Do you want to continue (y/n): y\n",
      "Enter test score: 20\n",
      "The average of the scores is: 13.333333333333334\n",
      "Do you want to continue (y/n): y\n",
      "Enter test score: 20\n",
      "The average of the scores is: 15.0\n",
      "Do you want to continue (y/n): y\n",
      "Enter test score: 40\n",
      "The average of the scores is: 20.0\n",
      "Do you want to continue (y/n): n\n",
      "\n",
      "The scores that you entered were: \n",
      "\n",
      "10\n",
      "10\n",
      "20\n",
      "20\n",
      "40\n",
      "\n",
      "The average score is:  20.0\n"
     ]
    }
   ],
   "source": [
    "another = 'y'\n",
    "scores = []\n",
    "i1 = 0\n",
    "average = 0\n",
    "total=0\n",
    "\n",
    "while another.lower() == 'y':\n",
    "    i1+=1\n",
    "    score = int(input(\"Enter test score: \"))\n",
    "    scores.append(score)\n",
    "    total +=score\n",
    "#    print(total)\n",
    "    average = total/i1\n",
    "    print(f\"The average of the scores is: {average}\")\n",
    "    \n",
    "    another = str(input(\"Do you want to continue (y/n): \"))\n",
    "\n",
    "print (\"\\nThe scores that you entered were: \\n\")\n",
    "for i2 in range (1,i1+1):\n",
    "    print (scores[i2-1])\n",
    "    \n",
    "print (f\"\\nThe average score is:  {average}\")\n"
   ]
  },
  {
   "cell_type": "markdown",
   "metadata": {},
   "source": [
    "Challenge:\n",
    "Write a program that maintains a list of movies, and the user can list all the movies, add a movie to the list, or delete a movie from the list.\n",
    "\n",
    "Example\n",
    "\n",
    "###### COMMAND MENU\n",
    "```\n",
    "list - list all movies\n",
    "add - add a movie\n",
    "del - delete a movie\n",
    "exit - exit program \n",
    "```\n",
    "\n",
    "###### Command: list\n",
    "``` \n",
    " 1. Toy Story\n",
    " 2. Lion King\n",
    " 3. Frozen\n",
    " ```\n",
    "\n",
    "###### Command: add\n",
    " ```\n",
    " Name: Snow White\n",
    " Snow White was added.\n",
    " ```\n",
    "\n",
    "###### Command: del\n",
    "```\n",
    " Number: 3\n",
    " Frozen was deleted.```\n",
    "\n"
   ]
  },
  {
   "cell_type": "code",
   "execution_count": 4,
   "metadata": {},
   "outputs": [
    {
     "name": "stdout",
     "output_type": "stream",
     "text": [
      "COMMAND MENU\n",
      "\n",
      "\tlist - list all movies\n",
      "\tadd  - add a movie\n",
      "\tdel  - delete a movie\n",
      "\texit - exit progam\n",
      "\n",
      "Command: l\n",
      "\n",
      "\n",
      "1. Dr. No\n",
      "2. From Russia with Love\n",
      "3. Goldfinger\n",
      "4. Thunderball\n",
      "\n",
      "Command: a\n",
      "\n",
      "\n",
      "Name: You Only Live Twice\n",
      "You Only Live Twice was added.\n",
      "\n",
      "\n",
      "Command: l\n",
      "\n",
      "\n",
      "1. Dr. No\n",
      "2. From Russia with Love\n",
      "3. Goldfinger\n",
      "4. Thunderball\n",
      "5. You Only Live Twice\n",
      "\n",
      "Command: a\n",
      "\n",
      "\n",
      "Name: On Her Majesty's Secret Service\n",
      "On Her Majesty's Secret Service was added.\n",
      "\n",
      "\n",
      "Command: l\n",
      "\n",
      "\n",
      "1. Dr. No\n",
      "2. From Russia with Love\n",
      "3. Goldfinger\n",
      "4. Thunderball\n",
      "5. You Only Live Twice\n",
      "6. On Her Majesty's Secret Service\n",
      "\n",
      "Command: d\n",
      "\n",
      "\n",
      "Number: 5\n",
      "You Only Live Twice was deleted ...\n",
      "\n",
      "Command: l\n",
      "\n",
      "\n",
      "1. Dr. No\n",
      "2. From Russia with Love\n",
      "3. Goldfinger\n",
      "4. Thunderball\n",
      "5. On Her Majesty's Secret Service\n",
      "\n",
      "Command: happy\n",
      "\n",
      "\n",
      "Enter (l)ist, (a)dd, (d)elete or (e)xit\n",
      "\n",
      "Command: e\n",
      "\n",
      "\n",
      "Exit program. I hope that you enjoyed your popcorn!\n"
     ]
    }
   ],
   "source": [
    "movies = ['Dr. No','From Russia with Love','Goldfinger','Thunderball']\n",
    "command =''\n",
    "print ('COMMAND MENU\\n\\n\\tlist - list all movies\\n\\tadd  - add a movie\\n\\tdel  - delete a movie\\n\\texit - exit progam')\n",
    "while command != 'e':\n",
    "    command = str(input('\\nCommand: '))\n",
    "    print (\"\\n\")\n",
    "\n",
    "    if command[0].lower() == 'l':\n",
    "        i1=1\n",
    "        for movie in movies:\n",
    "            print (f\"{i1}. {movie}\")\n",
    "            i1+=1\n",
    "    elif command[0].lower() == 'a':\n",
    "        add_m = str(input(\"Name: \"))\n",
    "        movies.append(add_m)\n",
    "        print (f\"{add_m} was added.\\n\")\n",
    "    elif  command[0].lower() == 'd':\n",
    "        number = int(input(\"Number: \"))\n",
    "        temp_s = movies[number-1]\n",
    "        movies.pop(number-1)\n",
    "        print (f\"{temp_s} was deleted ...\")\n",
    "    elif command[0].lower() != 'e':\n",
    "        print (\"Enter (l)ist, (a)dd, (d)elete or (e)xit\")\n",
    "                        \n",
    "print (\"Exit program. I hope that you enjoyed your popcorn!\")"
   ]
  },
  {
   "cell_type": "code",
   "execution_count": null,
   "metadata": {},
   "outputs": [],
   "source": []
  },
  {
   "cell_type": "code",
   "execution_count": null,
   "metadata": {},
   "outputs": [],
   "source": []
  }
 ],
 "metadata": {
  "kernelspec": {
   "display_name": "Python 3",
   "language": "python",
   "name": "python3"
  },
  "language_info": {
   "codemirror_mode": {
    "name": "ipython",
    "version": 3
   },
   "file_extension": ".py",
   "mimetype": "text/x-python",
   "name": "python",
   "nbconvert_exporter": "python",
   "pygments_lexer": "ipython3",
   "version": "3.8.8"
  }
 },
 "nbformat": 4,
 "nbformat_minor": 4
}
